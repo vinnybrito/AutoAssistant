{
  "nbformat": 4,
  "nbformat_minor": 0,
  "metadata": {
    "colab": {
      "provenance": []
    },
    "kernelspec": {
      "name": "python3",
      "display_name": "Python 3"
    },
    "language_info": {
      "name": "python"
    }
  },
  "cells": [
    {
      "cell_type": "code",
      "execution_count": null,
      "metadata": {
        "id": "4Ky1-DrNw_DM"
      },
      "outputs": [],
      "source": [
        "# Importando as bibliotecas\n",
        "import smtplib\n",
        "import time\n",
        "from email.mime.multipart import MIMEMultipart\n",
        "from email.mime.text import MIMEText\n",
        "from email.mime.application import MIMEApplication\n",
        "import pandas as pd"
      ]
    },
    {
      "cell_type": "code",
      "source": [
        "# Importando a tabela no excel\n",
        "tabela = '/content/Respostas_a_Receber.xlsx'\n",
        "df = pd.read_excel(tabela)"
      ],
      "metadata": {
        "id": "s_shL8WBeu0r"
      },
      "execution_count": null,
      "outputs": []
    },
    {
      "cell_type": "code",
      "source": [
        "# Definindo o número de envios e intervalo\n",
        "numero_envios = 3\n",
        "intervalo_segundos = 10"
      ],
      "metadata": {
        "id": "AtsEvU2fe501"
      },
      "execution_count": null,
      "outputs": []
    },
    {
      "cell_type": "code",
      "source": [
        "# Definindo algumas váriaveis\n",
        "email_origem = 'viny.rbrito18@gmail.com'\n",
        "senha_origem = 'dibu oafm wchv admr'\n",
        "assunto = 'Cotação Pendente'\n",
        "corpo_email = 'Espero que esta mensagem o encontre bem. Estamos entrando em contato para dar continuidade ao processo de cotação iniciado anteriormente. No entanto, até o momento, ainda não recebemos sua resposta à solicitação de cotação.'"
      ],
      "metadata": {
        "id": "gX167RCXxEkb"
      },
      "execution_count": null,
      "outputs": []
    },
    {
      "cell_type": "code",
      "source": [
        "# Loop para controlar o número de envios\n",
        "for envio in range(numero_envios):\n",
        "    for index, row in df.iterrows():\n",
        "        status, destinatario = row['Status'], row['E-mail']\n",
        "\n",
        "        if status == 'Aguardando Resposta' and pd.notnull(destinatario):\n",
        "            msg = MIMEMultipart()\n",
        "            msg.attach(MIMEText(corpo_email))\n",
        "            msg['Subject'] = assunto\n",
        "            msg['From'] = email_origem\n",
        "            msg['To'] = destinatario\n",
        "\n",
        "            # Adicionar PDF para envio\n",
        "            pdf_anexo = '/content/Pedido_para_cotacao.pdf'\n",
        "            with open(pdf_anexo, 'rb') as file:\n",
        "                attach = MIMEApplication(file.read(), _subtype=\"pdf\")\n",
        "                attach.add_header('Content-Disposition', 'attachment', filename='arquivo.pdf')\n",
        "                msg.attach(attach)\n",
        "\n",
        "            # Enviar o e-mail\n",
        "            with smtplib.SMTP('smtp.gmail.com', 587) as server:\n",
        "                server.starttls()\n",
        "                server.login(email_origem, senha_origem)\n",
        "                server.sendmail(email_origem, destinatario, msg.as_string())\n",
        "\n",
        "            print(f'E-mail com PDF enviado para {destinatario}')\n",
        "\n",
        "    # Aguardar 10 segundos antes do próximo envio\n",
        "    if envio < numero_envios - 1:\n",
        "        print(f'Aguardando 10 segundos antes do próximo envio...')\n",
        "        time.sleep(intervalo_segundos)"
      ],
      "metadata": {
        "id": "ew8fn3HMxW9k"
      },
      "execution_count": null,
      "outputs": []
    },
    {
      "cell_type": "markdown",
      "source": [
        "# ..."
      ],
      "metadata": {
        "id": "W4nqRMgG23cK"
      }
    },
    {
      "cell_type": "code",
      "source": [
        "# Importando as bibliotecas\n",
        "import smtplib\n",
        "import time\n",
        "from email.mime.multipart import MIMEMultipart\n",
        "from email.mime.application import MIMEApplication\n",
        "import pandas as pd\n",
        "from sklearn.model_selection import train_test_split\n",
        "from sklearn.linear_model import LogisticRegression\n",
        "from sklearn.metrics import accuracy_score"
      ],
      "metadata": {
        "id": "D3XvajwX22wK"
      },
      "execution_count": null,
      "outputs": []
    },
    {
      "cell_type": "code",
      "source": [
        "email_origem = 'viny.rbrito18@gmail.com'\n",
        "senha_origem = 'dibu oafm wchv admr'\n",
        "assunto = 'Cotação Pendente'\n",
        "corpo_email = 'Espero que esta mensagem o encontre bem. Estamos entrando em contato para dar continuidade ao processo de cotação iniciado anteriormente. No entanto, até o momento, ainda não recebemos sua resposta à solicitação de cotação.'"
      ],
      "metadata": {
        "id": "KLc2MmIN294y"
      },
      "execution_count": null,
      "outputs": []
    },
    {
      "cell_type": "code",
      "source": [
        "tabela = '/content/Respostas_a_Receber.xlsx'\n",
        "df = pd.read_excel(tabela)"
      ],
      "metadata": {
        "id": "jRzCPPhw9Xcq"
      },
      "execution_count": null,
      "outputs": []
    },
    {
      "cell_type": "code",
      "source": [
        "# Adicionando uma coluna para indicar se o fornecedor respondeu ou não\n",
        "# Considerando que 'Resposta Confirmada' significa 1 (respondeu) e 'Aguardando Resposta' significa 0 (não respondeu)\n",
        "df['Resposta_Binaria'] = df['Status'].apply(lambda x: 1 if x == 'Resposta Confirmada' else 0)"
      ],
      "metadata": {
        "id": "62Q06q3c9aVZ"
      },
      "execution_count": null,
      "outputs": []
    },
    {
      "cell_type": "code",
      "source": [
        "# Features que serão usadas para a previsão (por exemplo, Valor em aberto, Data Prevista para Resposta)\n",
        "features = df[['Valor em aberto', 'Data Prevista para Resposta']]"
      ],
      "metadata": {
        "id": "gV1tOx7S9c1r"
      },
      "execution_count": null,
      "outputs": []
    },
    {
      "cell_type": "code",
      "source": [
        "# Variável alvo (o que queremos prever)\n",
        "target = df['Resposta_Binaria']"
      ],
      "metadata": {
        "id": "jyuRdUk19iUn"
      },
      "execution_count": null,
      "outputs": []
    },
    {
      "cell_type": "code",
      "source": [
        "# Dividindo o conjunto de dados em treino e teste\n",
        "X_train, X_test, y_train, y_test = train_test_split(features, target, test_size=0.2, random_state=42)"
      ],
      "metadata": {
        "id": "T6sbRugQ9jJW"
      },
      "execution_count": null,
      "outputs": []
    },
    {
      "cell_type": "code",
      "source": [
        "# Treinando o modelo de Regressão Logística\n",
        "model = LogisticRegression()\n",
        "model.fit(X_train, y_train)"
      ],
      "metadata": {
        "id": "H7Iw7Lw59nX7"
      },
      "execution_count": null,
      "outputs": []
    },
    {
      "cell_type": "code",
      "source": [
        "# Fazendo previsões no conjunto de teste\n",
        "predictions = model.predict(X_test)"
      ],
      "metadata": {
        "id": "gNYWKI429pYE"
      },
      "execution_count": null,
      "outputs": []
    },
    {
      "cell_type": "code",
      "source": [
        "# Avaliando a precisão do modelo\n",
        "accuracy = accuracy_score(y_test, predictions)\n",
        "print(f'Acurácia do modelo: {accuracy}')"
      ],
      "metadata": {
        "id": "RrOMzItY9rfg"
      },
      "execution_count": null,
      "outputs": []
    },
    {
      "cell_type": "code",
      "source": [
        "# Adicionando previsões ao dataframe original\n",
        "df['Previsao'] = model.predict(features)"
      ],
      "metadata": {
        "id": "xHPb94XR9tbx"
      },
      "execution_count": null,
      "outputs": []
    },
    {
      "cell_type": "code",
      "source": [
        "# Loop para controlar o número de envios\n",
        "for envio in range(numero_envios):\n",
        "    for index, row in df.iterrows():\n",
        "        status, destinatario, previsao = row['Status'], row['E-mail'], row['Previsao']\n",
        "\n",
        "        # Verificando a previsão do modelo\n",
        "        if status == 'Aguardando Resposta' and pd.notnull(destinatario) and previsao == 1:\n",
        "            # Restante do seu código para enviar o e-mail...\n",
        "\n",
        "            print(f'E-mail com PDF enviado para {destinatario}')\n",
        "\n",
        "            # Atualizando o status do fornecedor para 'Resposta Confirmada'\n",
        "            df.at[index, 'Status'] = 'Resposta Confirmada'\n",
        "\n",
        "    # Atualizando o modelo com novos dados\n",
        "    model.fit(features, target)\n",
        "\n",
        "    # Aguardar 10 segundos antes do próximo envio\n",
        "    if envio < numero_envios - 1:\n",
        "        print(f'Aguardando 10 segundos antes do próximo envio...')\n",
        "        time.sleep(intervalo_segundos)"
      ],
      "metadata": {
        "id": "3Kre0UKr9uOj"
      },
      "execution_count": null,
      "outputs": []
    }
  ]
}