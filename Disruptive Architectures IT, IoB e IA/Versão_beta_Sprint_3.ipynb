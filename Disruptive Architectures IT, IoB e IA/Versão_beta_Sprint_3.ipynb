{
  "nbformat": 4,
  "nbformat_minor": 0,
  "metadata": {
    "colab": {
      "provenance": [],
      "collapsed_sections": [
        "71HgRjgzTYq8",
        "xCwwkPQ2Xb4H",
        "UPNwWVks3LJ-"
      ]
    },
    "kernelspec": {
      "name": "python3",
      "display_name": "Python 3"
    },
    "language_info": {
      "name": "python"
    }
  },
  "cells": [
    {
      "cell_type": "markdown",
      "source": [
        "# Automação de Envio de pedidos"
      ],
      "metadata": {
        "id": "nAmEjQds-LfH"
      }
    },
    {
      "cell_type": "code",
      "execution_count": null,
      "metadata": {
        "id": "4Ky1-DrNw_DM"
      },
      "outputs": [],
      "source": [
        "# Importando as bibliotecas\n",
        "import smtplib\n",
        "import time\n",
        "from email.mime.multipart import MIMEMultipart\n",
        "from email.mime.text import MIMEText\n",
        "from email.mime.application import MIMEApplication\n",
        "import pandas as pd"
      ]
    },
    {
      "cell_type": "code",
      "source": [
        "# Importando a tabela no excel\n",
        "tabela = '/content/Respostas_a_Receber.xlsx'\n",
        "df = pd.read_excel(tabela)"
      ],
      "metadata": {
        "id": "s_shL8WBeu0r"
      },
      "execution_count": null,
      "outputs": []
    },
    {
      "cell_type": "code",
      "source": [
        "# Definindo o número de envios e intervalo\n",
        "numero_envios = 3\n",
        "intervalo_segundos = 10"
      ],
      "metadata": {
        "id": "AtsEvU2fe501"
      },
      "execution_count": null,
      "outputs": []
    },
    {
      "cell_type": "code",
      "source": [
        "# Definindo algumas váriaveis\n",
        "email_origem = 'viny.rbrito18@gmail.com'\n",
        "senha_origem = 'dibu oafm wchv admr'\n",
        "assunto = 'Cotação Pendente'\n",
        "corpo_email = 'Espero que esta mensagem o encontre bem. Estamos entrando em contato para dar continuidade ao processo de cotação iniciado anteriormente. No entanto, até o momento, ainda não recebemos sua resposta à solicitação de cotação.'"
      ],
      "metadata": {
        "id": "gX167RCXxEkb"
      },
      "execution_count": null,
      "outputs": []
    },
    {
      "cell_type": "code",
      "source": [
        "# Loop para controlar o número de envios\n",
        "for envio in range(numero_envios):\n",
        "    for index, row in df.iterrows():\n",
        "        status, destinatario = row['Status'], row['E-mail']\n",
        "\n",
        "        if status == 'Aguardando Resposta' and pd.notnull(destinatario):\n",
        "            msg = MIMEMultipart()\n",
        "            msg.attach(MIMEText(corpo_email))\n",
        "            msg['Subject'] = assunto\n",
        "            msg['From'] = email_origem\n",
        "            msg['To'] = destinatario\n",
        "\n",
        "            # Adicionar PDF para envio\n",
        "            pdf_anexo = '/content/Pedido_para_cotacao.pdf'\n",
        "            with open(pdf_anexo, 'rb') as file:\n",
        "                attach = MIMEApplication(file.read(), _subtype=\"pdf\")\n",
        "                attach.add_header('Content-Disposition', 'attachment', filename='arquivo.pdf')\n",
        "                msg.attach(attach)\n",
        "\n",
        "            # Enviar o e-mail\n",
        "            with smtplib.SMTP('smtp.gmail.com', 587) as server:\n",
        "                server.starttls()\n",
        "                server.login(email_origem, senha_origem)\n",
        "                server.sendmail(email_origem, destinatario, msg.as_string())\n",
        "\n",
        "            print(f'E-mail com PDF enviado para {destinatario}')\n",
        "\n",
        "    # Aguardar 10 segundos antes do próximo envio\n",
        "    if envio < numero_envios - 1:\n",
        "        print(f'Aguardando 10 segundos antes do próximo envio...')\n",
        "        time.sleep(intervalo_segundos)"
      ],
      "metadata": {
        "id": "ew8fn3HMxW9k"
      },
      "execution_count": null,
      "outputs": []
    }
  ]
}