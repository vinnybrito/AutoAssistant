{
  "nbformat": 4,
  "nbformat_minor": 0,
  "metadata": {
    "colab": {
      "provenance": []
    },
    "kernelspec": {
      "name": "python3",
      "display_name": "Python 3"
    },
    "language_info": {
      "name": "python"
    }
  },
  "cells": [
    {
      "cell_type": "markdown",
      "source": [
        "# Automação de Envio de pedidos"
      ],
      "metadata": {
        "id": "nAmEjQds-LfH"
      }
    },
    {
      "cell_type": "code",
      "execution_count": null,
      "metadata": {
        "id": "4Ky1-DrNw_DM"
      },
      "outputs": [],
      "source": [
        "# Importando as bibliotecas\n",
        "import smtplib\n",
        "import time\n",
        "from email.mime.multipart import MIMEMultipart\n",
        "from email.mime.text import MIMEText\n",
        "from email.mime.application import MIMEApplication\n",
        "import pandas as pd"
      ]
    },
    {
      "cell_type": "code",
      "source": [
        "# Importando a tabela no excel\n",
        "tabela = '/content/Respostas_a_Receber.xlsx'\n",
        "df = pd.read_excel(tabela)"
      ],
      "metadata": {
        "id": "s_shL8WBeu0r"
      },
      "execution_count": null,
      "outputs": []
    },
    {
      "cell_type": "code",
      "source": [
        "# Definindo o número de envios e intervalo\n",
        "numero_envios = 3\n",
        "intervalo_segundos = 10"
      ],
      "metadata": {
        "id": "AtsEvU2fe501"
      },
      "execution_count": null,
      "outputs": []
    },
    {
      "cell_type": "code",
      "source": [
        "# Definindo algumas váriaveis\n",
        "email_origem = 'viny.rbrito18@gmail.com'\n",
        "senha_origem = 'dibu oafm wchv admr'\n",
        "assunto = 'Cotação Pendente'\n",
        "corpo_email = 'Espero que esta mensagem o encontre bem. Estamos entrando em contato para dar continuidade ao processo de cotação iniciado anteriormente. No entanto, até o momento, ainda não recebemos sua resposta à solicitação de cotação.'"
      ],
      "metadata": {
        "id": "gX167RCXxEkb"
      },
      "execution_count": null,
      "outputs": []
    },
    {
      "cell_type": "code",
      "source": [
        "# Loop para controlar o número de envios\n",
        "for envio in range(numero_envios):\n",
        "    for index, row in df.iterrows():\n",
        "        status, destinatario = row['Status'], row['E-mail']\n",
        "\n",
        "        if status == 'Aguardando Resposta' and pd.notnull(destinatario):\n",
        "            msg = MIMEMultipart()\n",
        "            msg.attach(MIMEText(corpo_email))\n",
        "            msg['Subject'] = assunto\n",
        "            msg['From'] = email_origem\n",
        "            msg['To'] = destinatario\n",
        "\n",
        "            # Adicionar PDF para envio\n",
        "            pdf_anexo = '/content/Pedido_para_cotacao.pdf'\n",
        "            with open(pdf_anexo, 'rb') as file:\n",
        "                attach = MIMEApplication(file.read(), _subtype=\"pdf\")\n",
        "                attach.add_header('Content-Disposition', 'attachment', filename='arquivo.pdf')\n",
        "                msg.attach(attach)\n",
        "\n",
        "            # Enviar o e-mail\n",
        "            with smtplib.SMTP('smtp.gmail.com', 587) as server:\n",
        "                server.starttls()\n",
        "                server.login(email_origem, senha_origem)\n",
        "                server.sendmail(email_origem, destinatario, msg.as_string())\n",
        "\n",
        "            print(f'E-mail com PDF enviado para {destinatario}')\n",
        "\n",
        "    # Aguardar 10 segundos antes do próximo envio\n",
        "    if envio < numero_envios - 1:\n",
        "        print(f'Aguardando 10 segundos antes do próximo envio...')\n",
        "        time.sleep(intervalo_segundos)"
      ],
      "metadata": {
        "id": "ew8fn3HMxW9k",
        "colab": {
          "base_uri": "https://localhost:8080/"
        },
        "outputId": "c26f9ab4-b450-47c9-f1e3-bf57745ef2ca"
      },
      "execution_count": null,
      "outputs": [
        {
          "output_type": "stream",
          "name": "stdout",
          "text": [
            "E-mail com PDF enviado para viny.rbrito18@gmail.com\n",
            "E-mail com PDF enviado para meuclientedevedor+2@gmail.com\n",
            "E-mail com PDF enviado para meuclientedevedor+11@gmail.com\n",
            "E-mail com PDF enviado para meuclientedevedor+12@gmail.com\n",
            "E-mail com PDF enviado para meuclientedevedor+13@gmail.com\n",
            "E-mail com PDF enviado para meuclientedevedor+14@gmail.com\n",
            "E-mail com PDF enviado para meuclientedevedor+15@gmail.com\n",
            "E-mail com PDF enviado para meuclientedevedor+16@gmail.com\n",
            "E-mail com PDF enviado para meuclientedevedor+22@gmail.com\n",
            "E-mail com PDF enviado para meuclientedevedor+24@gmail.com\n",
            "E-mail com PDF enviado para meuclientedevedor+38@gmail.com\n",
            "E-mail com PDF enviado para meuclientedevedor+57@gmail.com\n",
            "E-mail com PDF enviado para meuclientedevedor+77@gmail.com\n",
            "E-mail com PDF enviado para meuclientedevedor+83@gmail.com\n",
            "E-mail com PDF enviado para meuclientedevedor+92@gmail.com\n",
            "E-mail com PDF enviado para meuclientedevedor+93@gmail.com\n",
            "E-mail com PDF enviado para meuclientedevedor+115@gmail.com\n",
            "E-mail com PDF enviado para meuclientedevedor+116@gmail.com\n",
            "Aguardando 10 segundos antes do próximo envio...\n",
            "E-mail com PDF enviado para viny.rbrito18@gmail.com\n",
            "E-mail com PDF enviado para meuclientedevedor+2@gmail.com\n",
            "E-mail com PDF enviado para meuclientedevedor+11@gmail.com\n",
            "E-mail com PDF enviado para meuclientedevedor+12@gmail.com\n",
            "E-mail com PDF enviado para meuclientedevedor+13@gmail.com\n",
            "E-mail com PDF enviado para meuclientedevedor+14@gmail.com\n",
            "E-mail com PDF enviado para meuclientedevedor+15@gmail.com\n",
            "E-mail com PDF enviado para meuclientedevedor+16@gmail.com\n",
            "E-mail com PDF enviado para meuclientedevedor+22@gmail.com\n",
            "E-mail com PDF enviado para meuclientedevedor+24@gmail.com\n",
            "E-mail com PDF enviado para meuclientedevedor+38@gmail.com\n",
            "E-mail com PDF enviado para meuclientedevedor+57@gmail.com\n",
            "E-mail com PDF enviado para meuclientedevedor+77@gmail.com\n",
            "E-mail com PDF enviado para meuclientedevedor+83@gmail.com\n",
            "E-mail com PDF enviado para meuclientedevedor+92@gmail.com\n",
            "E-mail com PDF enviado para meuclientedevedor+93@gmail.com\n",
            "E-mail com PDF enviado para meuclientedevedor+115@gmail.com\n",
            "E-mail com PDF enviado para meuclientedevedor+116@gmail.com\n",
            "Aguardando 10 segundos antes do próximo envio...\n",
            "E-mail com PDF enviado para viny.rbrito18@gmail.com\n",
            "E-mail com PDF enviado para meuclientedevedor+2@gmail.com\n",
            "E-mail com PDF enviado para meuclientedevedor+11@gmail.com\n",
            "E-mail com PDF enviado para meuclientedevedor+12@gmail.com\n",
            "E-mail com PDF enviado para meuclientedevedor+13@gmail.com\n",
            "E-mail com PDF enviado para meuclientedevedor+14@gmail.com\n",
            "E-mail com PDF enviado para meuclientedevedor+15@gmail.com\n",
            "E-mail com PDF enviado para meuclientedevedor+16@gmail.com\n",
            "E-mail com PDF enviado para meuclientedevedor+22@gmail.com\n",
            "E-mail com PDF enviado para meuclientedevedor+24@gmail.com\n",
            "E-mail com PDF enviado para meuclientedevedor+38@gmail.com\n",
            "E-mail com PDF enviado para meuclientedevedor+57@gmail.com\n",
            "E-mail com PDF enviado para meuclientedevedor+77@gmail.com\n",
            "E-mail com PDF enviado para meuclientedevedor+83@gmail.com\n",
            "E-mail com PDF enviado para meuclientedevedor+92@gmail.com\n",
            "E-mail com PDF enviado para meuclientedevedor+93@gmail.com\n",
            "E-mail com PDF enviado para meuclientedevedor+115@gmail.com\n",
            "E-mail com PDF enviado para meuclientedevedor+116@gmail.com\n"
          ]
        }
      ]
    },
    {
      "cell_type": "markdown",
      "source": [
        "# Sprint 3\n"
      ],
      "metadata": {
        "id": "dokn3gIXdB5g"
      }
    },
    {
      "cell_type": "markdown",
      "source": [
        "# Previsões com  algoritmo de Regressão Logística"
      ],
      "metadata": {
        "id": "FwuOxzHmLWgx"
      }
    },
    {
      "cell_type": "code",
      "source": [
        "# Importando as bibliotecas\n",
        "import smtplib\n",
        "import time\n",
        "from email.mime.multipart import MIMEMultipart\n",
        "from email.mime.application import MIMEApplication\n",
        "import pandas as pd\n",
        "from sklearn.model_selection import train_test_split\n",
        "from sklearn.linear_model import LogisticRegression\n",
        "from sklearn.metrics import accuracy_score\n",
        "from sklearn.preprocessing import StandardScaler"
      ],
      "metadata": {
        "id": "9XUBMbQ3Livg"
      },
      "execution_count": null,
      "outputs": []
    },
    {
      "cell_type": "code",
      "source": [
        "email_origem = 'viny.rbrito18@gmail.com'\n",
        "senha_origem = 'dibu oafm wchv admr'\n",
        "assunto = 'Cotação Pendente'\n",
        "corpo_email = 'Espero que esta mensagem o encontre bem. Estamos entrando em contato para dar continuidade ao processo de cotação iniciado anteriormente. No entanto, até o momento, ainda não recebemos sua resposta à solicitação de cotação.'"
      ],
      "metadata": {
        "id": "POFHKMIALlXM"
      },
      "execution_count": null,
      "outputs": []
    },
    {
      "cell_type": "code",
      "source": [
        "# Caminho para o arquivo Excel\n",
        "tabela = '/content/Respostas_a_Receber.xlsx'\n",
        "df = pd.read_excel(tabela)"
      ],
      "metadata": {
        "id": "p3U5W597Lnr9"
      },
      "execution_count": null,
      "outputs": []
    },
    {
      "cell_type": "code",
      "source": [
        "# Verificar o tipo de dados da coluna 'Data Prevista para Resposta'\n",
        "print(df['Data Prevista para Resposta'].dtype)"
      ],
      "metadata": {
        "id": "6CdLnaCRMrtz",
        "colab": {
          "base_uri": "https://localhost:8080/"
        },
        "outputId": "7d34f15c-9aca-4fb6-9d5a-271129c979eb"
      },
      "execution_count": null,
      "outputs": [
        {
          "output_type": "stream",
          "name": "stdout",
          "text": [
            "datetime64[ns]\n"
          ]
        }
      ]
    },
    {
      "cell_type": "code",
      "source": [
        "# Converter a coluna 'Data Prevista para Resposta' para o formato de data/hora\n",
        "df['Data Prevista para Resposta'] = pd.to_datetime(df['Data Prevista para Resposta'], format='%d/%m/%Y')"
      ],
      "metadata": {
        "id": "khfNV8T7MtMn"
      },
      "execution_count": null,
      "outputs": []
    },
    {
      "cell_type": "code",
      "source": [
        "# Verificar o tipo de dados após a conversão\n",
        "print(df['Data Prevista para Resposta'].dtype)"
      ],
      "metadata": {
        "id": "LbngYpBAMvrb",
        "colab": {
          "base_uri": "https://localhost:8080/"
        },
        "outputId": "d40316ff-9560-46b4-894c-a8ad43174f9e"
      },
      "execution_count": null,
      "outputs": [
        {
          "output_type": "stream",
          "name": "stdout",
          "text": [
            "datetime64[ns]\n"
          ]
        }
      ]
    },
    {
      "cell_type": "code",
      "source": [
        "# Adicionando uma coluna para indicar se o fornecedor respondeu ou não\n",
        "# Considerando que 'Resposta Confirmada' significa 1 (respondeu) e 'Aguardando Resposta' significa 0 (não respondeu)\n",
        "df['Resposta_Binaria'] = df['Status'].apply(lambda x: 1 if x == 'Resposta Confirmada' else 0)"
      ],
      "metadata": {
        "id": "MOgtJArhLqa4"
      },
      "execution_count": null,
      "outputs": []
    },
    {
      "cell_type": "code",
      "source": [
        "# Features que serão usadas para a previsão (por exemplo, Valor em aberto, Data Prevista para Resposta)\n",
        "features = df[['Valor em aberto', 'Data Prevista para Resposta']]"
      ],
      "metadata": {
        "id": "mn3JEf5CLsV2"
      },
      "execution_count": null,
      "outputs": []
    },
    {
      "cell_type": "code",
      "source": [
        "# Variável alvo (o que queremos prever)\n",
        "target = df['Resposta_Binaria']"
      ],
      "metadata": {
        "id": "zS7ooLv5LuHF"
      },
      "execution_count": null,
      "outputs": []
    },
    {
      "cell_type": "code",
      "source": [
        "# Dividindo o conjunto de dados em treino e teste\n",
        "X_train, X_test, y_train, y_test = train_test_split(features, target, test_size=0.2, random_state=42)"
      ],
      "metadata": {
        "id": "AW79AI5tLvmo"
      },
      "execution_count": null,
      "outputs": []
    },
    {
      "cell_type": "code",
      "source": [
        "# Selecionando apenas as características relevantes para o modelo\n",
        "X_train_features = X_train.drop(columns=['Data Prevista para Resposta'])\n",
        "\n",
        "# Instanciando e ajustando o modelo de Regressão Logística com as características selecionadas\n",
        "model = LogisticRegression()\n",
        "model.fit(X_train_features, y_train)"
      ],
      "metadata": {
        "id": "81CsblrqLxTg",
        "colab": {
          "base_uri": "https://localhost:8080/",
          "height": 74
        },
        "outputId": "131c61ac-7dc3-4791-fd03-c29abe4338a3"
      },
      "execution_count": null,
      "outputs": [
        {
          "output_type": "execute_result",
          "data": {
            "text/plain": [
              "LogisticRegression()"
            ],
            "text/html": [
              "<style>#sk-container-id-3 {color: black;background-color: white;}#sk-container-id-3 pre{padding: 0;}#sk-container-id-3 div.sk-toggleable {background-color: white;}#sk-container-id-3 label.sk-toggleable__label {cursor: pointer;display: block;width: 100%;margin-bottom: 0;padding: 0.3em;box-sizing: border-box;text-align: center;}#sk-container-id-3 label.sk-toggleable__label-arrow:before {content: \"▸\";float: left;margin-right: 0.25em;color: #696969;}#sk-container-id-3 label.sk-toggleable__label-arrow:hover:before {color: black;}#sk-container-id-3 div.sk-estimator:hover label.sk-toggleable__label-arrow:before {color: black;}#sk-container-id-3 div.sk-toggleable__content {max-height: 0;max-width: 0;overflow: hidden;text-align: left;background-color: #f0f8ff;}#sk-container-id-3 div.sk-toggleable__content pre {margin: 0.2em;color: black;border-radius: 0.25em;background-color: #f0f8ff;}#sk-container-id-3 input.sk-toggleable__control:checked~div.sk-toggleable__content {max-height: 200px;max-width: 100%;overflow: auto;}#sk-container-id-3 input.sk-toggleable__control:checked~label.sk-toggleable__label-arrow:before {content: \"▾\";}#sk-container-id-3 div.sk-estimator input.sk-toggleable__control:checked~label.sk-toggleable__label {background-color: #d4ebff;}#sk-container-id-3 div.sk-label input.sk-toggleable__control:checked~label.sk-toggleable__label {background-color: #d4ebff;}#sk-container-id-3 input.sk-hidden--visually {border: 0;clip: rect(1px 1px 1px 1px);clip: rect(1px, 1px, 1px, 1px);height: 1px;margin: -1px;overflow: hidden;padding: 0;position: absolute;width: 1px;}#sk-container-id-3 div.sk-estimator {font-family: monospace;background-color: #f0f8ff;border: 1px dotted black;border-radius: 0.25em;box-sizing: border-box;margin-bottom: 0.5em;}#sk-container-id-3 div.sk-estimator:hover {background-color: #d4ebff;}#sk-container-id-3 div.sk-parallel-item::after {content: \"\";width: 100%;border-bottom: 1px solid gray;flex-grow: 1;}#sk-container-id-3 div.sk-label:hover label.sk-toggleable__label {background-color: #d4ebff;}#sk-container-id-3 div.sk-serial::before {content: \"\";position: absolute;border-left: 1px solid gray;box-sizing: border-box;top: 0;bottom: 0;left: 50%;z-index: 0;}#sk-container-id-3 div.sk-serial {display: flex;flex-direction: column;align-items: center;background-color: white;padding-right: 0.2em;padding-left: 0.2em;position: relative;}#sk-container-id-3 div.sk-item {position: relative;z-index: 1;}#sk-container-id-3 div.sk-parallel {display: flex;align-items: stretch;justify-content: center;background-color: white;position: relative;}#sk-container-id-3 div.sk-item::before, #sk-container-id-3 div.sk-parallel-item::before {content: \"\";position: absolute;border-left: 1px solid gray;box-sizing: border-box;top: 0;bottom: 0;left: 50%;z-index: -1;}#sk-container-id-3 div.sk-parallel-item {display: flex;flex-direction: column;z-index: 1;position: relative;background-color: white;}#sk-container-id-3 div.sk-parallel-item:first-child::after {align-self: flex-end;width: 50%;}#sk-container-id-3 div.sk-parallel-item:last-child::after {align-self: flex-start;width: 50%;}#sk-container-id-3 div.sk-parallel-item:only-child::after {width: 0;}#sk-container-id-3 div.sk-dashed-wrapped {border: 1px dashed gray;margin: 0 0.4em 0.5em 0.4em;box-sizing: border-box;padding-bottom: 0.4em;background-color: white;}#sk-container-id-3 div.sk-label label {font-family: monospace;font-weight: bold;display: inline-block;line-height: 1.2em;}#sk-container-id-3 div.sk-label-container {text-align: center;}#sk-container-id-3 div.sk-container {/* jupyter's `normalize.less` sets `[hidden] { display: none; }` but bootstrap.min.css set `[hidden] { display: none !important; }` so we also need the `!important` here to be able to override the default hidden behavior on the sphinx rendered scikit-learn.org. See: https://github.com/scikit-learn/scikit-learn/issues/21755 */display: inline-block !important;position: relative;}#sk-container-id-3 div.sk-text-repr-fallback {display: none;}</style><div id=\"sk-container-id-3\" class=\"sk-top-container\"><div class=\"sk-text-repr-fallback\"><pre>LogisticRegression()</pre><b>In a Jupyter environment, please rerun this cell to show the HTML representation or trust the notebook. <br />On GitHub, the HTML representation is unable to render, please try loading this page with nbviewer.org.</b></div><div class=\"sk-container\" hidden><div class=\"sk-item\"><div class=\"sk-estimator sk-toggleable\"><input class=\"sk-toggleable__control sk-hidden--visually\" id=\"sk-estimator-id-3\" type=\"checkbox\" checked><label for=\"sk-estimator-id-3\" class=\"sk-toggleable__label sk-toggleable__label-arrow\">LogisticRegression</label><div class=\"sk-toggleable__content\"><pre>LogisticRegression()</pre></div></div></div></div></div>"
            ]
          },
          "metadata": {},
          "execution_count": 50
        }
      ]
    },
    {
      "cell_type": "code",
      "source": [
        "# Verificar as colunas presentes em X_test\n",
        "print(X_test.columns)\n",
        "\n",
        "# Se houver uma coluna 'Data Prevista para Resposta' em X_test e não em X_train, remova-a\n",
        "X_test_processed = X_test.drop(columns=['Data Prevista para Resposta'], errors='ignore')\n",
        "\n",
        "# Fazer previsões no conjunto de teste\n",
        "predictions = model.predict(X_test_processed)\n"
      ],
      "metadata": {
        "id": "6k3hAuUuLzB7",
        "colab": {
          "base_uri": "https://localhost:8080/"
        },
        "outputId": "a4f30fe7-20bd-45be-888e-6440004ae890"
      },
      "execution_count": null,
      "outputs": [
        {
          "output_type": "stream",
          "name": "stdout",
          "text": [
            "Index(['Valor em aberto', 'Data Prevista para Resposta'], dtype='object')\n"
          ]
        }
      ]
    },
    {
      "cell_type": "code",
      "source": [
        "# Avaliando a precisão do modelo\n",
        "accuracy = accuracy_score(y_test, predictions)\n",
        "print(f'Acurácia do modelo: {accuracy}')"
      ],
      "metadata": {
        "id": "tI4iFkh2L0wW",
        "colab": {
          "base_uri": "https://localhost:8080/"
        },
        "outputId": "646c5111-9246-418b-a756-7b427bbcf39c"
      },
      "execution_count": null,
      "outputs": [
        {
          "output_type": "stream",
          "name": "stdout",
          "text": [
            "Acurácia do modelo: 0.9\n"
          ]
        }
      ]
    },
    {
      "cell_type": "code",
      "source": [
        "# Definindo o número de envios desejado\n",
        "numero_envios = 2  # Por exemplo, definindo para 5 envios\n",
        "\n",
        "# Loop para controlar o número de envios\n",
        "for envio in range(numero_envios):\n",
        "    for index, row in df.iterrows():\n",
        "        status, destinatario, previsao = row['Status'], row['E-mail'], row['Previsao']\n",
        "\n",
        "        # Verificando a previsão do modelo\n",
        "        if status == 'Aguardando Resposta' and pd.notnull(destinatario) and previsao == 1:\n",
        "            # Restante do seu código para enviar o e-mail...\n",
        "\n",
        "            print(f'E-mail com PDF enviado para {destinatario}')\n",
        "\n",
        "            # Atualizando o status do fornecedor para 'Resposta Confirmada'\n",
        "            df.at[index, 'Status'] = 'Resposta Confirmada'\n",
        "\n",
        "    # Atualizando o modelo com novos dados\n",
        "    model.fit(features, target)\n",
        "\n",
        "    # Aguardar 10 segundos antes do próximo envio\n",
        "    if envio < numero_envios - 1:\n",
        "        print(f'Aguardando 10 segundos antes do próximo envio...')\n",
        "        time.sleep(intervalo_segundos)\n"
      ],
      "metadata": {
        "id": "iaO2fN6DXJle"
      },
      "execution_count": null,
      "outputs": []
    }
  ]
}